{
  "metadata": {
    "kernelspec": {
      "language": "python",
      "display_name": "Python 3",
      "name": "python3"
    },
    "language_info": {
      "name": "python",
      "version": "3.10.13",
      "mimetype": "text/x-python",
      "codemirror_mode": {
        "name": "ipython",
        "version": 3
      },
      "pygments_lexer": "ipython3",
      "nbconvert_exporter": "python",
      "file_extension": ".py"
    },
    "kaggle": {
      "accelerator": "none",
      "dataSources": [
        {
          "sourceId": 135810,
          "sourceType": "datasetVersion",
          "datasetId": 67983
        }
      ],
      "dockerImageVersionId": 30746,
      "isInternetEnabled": true,
      "language": "python",
      "sourceType": "notebook",
      "isGpuEnabled": false
    },
    "colab": {
      "name": "Water Quality Prediction Data Analytics Project ",
      "provenance": [],
      "include_colab_link": true
    }
  },
  "nbformat_minor": 0,
  "nbformat": 4,
  "cells": [
    {
      "cell_type": "markdown",
      "metadata": {
        "id": "view-in-github",
        "colab_type": "text"
      },
      "source": [
        "<a href=\"https://colab.research.google.com/github/sauravkrpal/IBM-water-quality-prediction-Data-Analytics-Project/blob/main/Water_Quality_Prediction_Data_Analytics_Project.ipynb\" target=\"_parent\"><img src=\"https://colab.research.google.com/assets/colab-badge.svg\" alt=\"Open In Colab\"/></a>"
      ]
    },
    {
      "source": [
        "# IMPORTANT: RUN THIS CELL IN ORDER TO IMPORT YOUR KAGGLE DATA SOURCES,\n",
        "# THEN FEEL FREE TO DELETE THIS CELL.\n",
        "# NOTE: THIS NOTEBOOK ENVIRONMENT DIFFERS FROM KAGGLE'S PYTHON\n",
        "# ENVIRONMENT SO THERE MAY BE MISSING LIBRARIES USED BY YOUR\n",
        "# NOTEBOOK.\n",
        "import kagglehub\n",
        "anbarivan_indian_water_quality_data_path = kagglehub.dataset_download('anbarivan/indian-water-quality-data')\n",
        "\n",
        "print('Data source import complete.')\n"
      ],
      "metadata": {
        "id": "k806oSvTtaXM"
      },
      "cell_type": "code",
      "outputs": [],
      "execution_count": null
    },
    {
      "cell_type": "code",
      "source": [
        "# This Python 3 environment comes with many helpful analytics libraries installed\n",
        "# It is defined by the kaggle/python Docker image: https://github.com/kaggle/docker-python\n",
        "# For example, here's several helpful packages to load\n",
        "\n",
        "import numpy as np # linear algebra\n",
        "import pandas as pd # data processing, CSV file I/O (e.g. pd.read_csv)\n",
        "\n",
        "# Input data files are available in the read-only \"../input/\" directory\n",
        "# For example, running this (by clicking run or pressing Shift+Enter) will list all files under the input directory\n",
        "\n",
        "import os\n",
        "for dirname, _, filenames in os.walk('/kaggle/input'):\n",
        "    for filename in filenames:\n",
        "        print(os.path.join(dirname, filename))\n",
        "\n",
        "# You can write up to 20GB to the current directory (/kaggle/working/) that gets preserved as output when you create a version using \"Save & Run All\"\n",
        "# You can also write temporary files to /kaggle/temp/, but they won't be saved outside of the current session"
      ],
      "metadata": {
        "_uuid": "8f2839f25d086af736a60e9eeb907d3b93b6e0e5",
        "_cell_guid": "b1076dfc-b9ad-4769-8c92-a6c4dae69d19",
        "execution": {
          "iopub.status.busy": "2024-07-27T12:37:38.239695Z",
          "iopub.execute_input": "2024-07-27T12:37:38.240029Z",
          "iopub.status.idle": "2024-07-27T12:37:38.637456Z",
          "shell.execute_reply.started": "2024-07-27T12:37:38.239998Z",
          "shell.execute_reply": "2024-07-27T12:37:38.636407Z"
        },
        "trusted": true,
        "id": "Vjp-YSIFtaXP"
      },
      "execution_count": null,
      "outputs": []
    },
    {
      "cell_type": "code",
      "source": [
        "import os\n",
        "print(os.listdir(\"../input/indian-water-quality-data\"))"
      ],
      "metadata": {
        "execution": {
          "iopub.status.busy": "2024-07-27T12:37:38.64289Z",
          "iopub.execute_input": "2024-07-27T12:37:38.643199Z",
          "iopub.status.idle": "2024-07-27T12:37:38.648737Z",
          "shell.execute_reply.started": "2024-07-27T12:37:38.643171Z",
          "shell.execute_reply": "2024-07-27T12:37:38.647617Z"
        },
        "trusted": true,
        "id": "5BBXGrB_taXP"
      },
      "execution_count": null,
      "outputs": []
    },
    {
      "cell_type": "code",
      "source": [
        "import numpy as np\n",
        "import pandas as pd\n",
        "import seaborn as sns\n",
        "import matplotlib.pyplot as plt\n",
        "from sklearn.impute import SimpleImputer\n",
        "from scipy.stats import zscore\n",
        "from sklearn.preprocessing import StandardScaler\n",
        "from sklearn.cluster import KMeans\n",
        "from sklearn.metrics import silhouette_score\n",
        "from sklearn.linear_model import LogisticRegression\n",
        "from sklearn.model_selection import train_test_split\n",
        "from sklearn.metrics import classification_report, confusion_matrix, accuracy_score\n",
        "import warnings\n",
        "warnings.filterwarnings('ignore')"
      ],
      "metadata": {
        "execution": {
          "iopub.status.busy": "2024-07-27T12:37:38.650334Z",
          "iopub.execute_input": "2024-07-27T12:37:38.650755Z",
          "iopub.status.idle": "2024-07-27T12:37:39.364632Z",
          "shell.execute_reply.started": "2024-07-27T12:37:38.650717Z",
          "shell.execute_reply": "2024-07-27T12:37:39.363665Z"
        },
        "trusted": true,
        "id": "fZgUmRL7taXQ"
      },
      "execution_count": null,
      "outputs": []
    },
    {
      "cell_type": "code",
      "source": [
        "# Load and preprocess the data\n",
        "df = pd.read_csv(\"../input/indian-water-quality-data/water_dataX.csv\", encoding='unicode_escape')\n",
        "df = df.iloc[0:1900, :]\n",
        "df = df.rename(columns={\"D.O. (mg/l)\": \"DO\", \"CONDUCTIVITY (µmhos/cm)\": \"Conductivity\", \"B.O.D. (mg/l)\": \"BOD\",\n",
        "                        \"NITRATENAN N+ NITRITENANN (mg/l)\": \"NI\", \"FECAL COLIFORM (MPN/100ml)\": \"Fec_col\",\n",
        "                        \"TOTAL COLIFORM (MPN/100ml)Mean\": \"Tot_col\"})"
      ],
      "metadata": {
        "execution": {
          "iopub.status.busy": "2024-07-27T12:37:39.367189Z",
          "iopub.execute_input": "2024-07-27T12:37:39.367531Z",
          "iopub.status.idle": "2024-07-27T12:37:39.389492Z",
          "shell.execute_reply.started": "2024-07-27T12:37:39.367502Z",
          "shell.execute_reply": "2024-07-27T12:37:39.388454Z"
        },
        "trusted": true,
        "id": "v9Ctpn6jtaXQ"
      },
      "execution_count": null,
      "outputs": []
    },
    {
      "cell_type": "code",
      "source": [
        "# Dropping unwanted features\n",
        "df_num = df.drop([\"STATION CODE\", \"NI\", \"LOCATIONS\", \"STATE\", \"year\", \"BOD\", \"Fec_col\", \"Tot_col\"], axis=1)\n",
        "df_num"
      ],
      "metadata": {
        "execution": {
          "iopub.status.busy": "2024-07-27T12:37:39.390811Z",
          "iopub.execute_input": "2024-07-27T12:37:39.391236Z",
          "iopub.status.idle": "2024-07-27T12:37:39.40856Z",
          "shell.execute_reply.started": "2024-07-27T12:37:39.391197Z",
          "shell.execute_reply": "2024-07-27T12:37:39.407333Z"
        },
        "trusted": true,
        "id": "NI8k-FKZtaXR"
      },
      "execution_count": null,
      "outputs": []
    },
    {
      "cell_type": "code",
      "source": [
        "num_col = df.shape[1]\n",
        "for index in range(num_col):\n",
        "    col_name = df.iloc[:, index].name\n",
        "    df[col_name] = pd.to_numeric(df[col_name], errors=\"coerce\")\n",
        "\n",
        "df.dtypes"
      ],
      "metadata": {
        "execution": {
          "iopub.status.busy": "2024-07-27T12:37:39.410472Z",
          "iopub.execute_input": "2024-07-27T12:37:39.410913Z",
          "iopub.status.idle": "2024-07-27T12:37:39.441425Z",
          "shell.execute_reply.started": "2024-07-27T12:37:39.410873Z",
          "shell.execute_reply": "2024-07-27T12:37:39.440038Z"
        },
        "trusted": true,
        "id": "rbbr5_v3taXR"
      },
      "execution_count": null,
      "outputs": []
    },
    {
      "cell_type": "code",
      "source": [
        "# Convert all columns to numeric, coerce errors to NaN\n",
        "df_num = df_num.apply(pd.to_numeric, errors='coerce')"
      ],
      "metadata": {
        "execution": {
          "iopub.status.busy": "2024-07-27T12:37:39.442755Z",
          "iopub.execute_input": "2024-07-27T12:37:39.443151Z",
          "iopub.status.idle": "2024-07-27T12:37:39.457152Z",
          "shell.execute_reply.started": "2024-07-27T12:37:39.443119Z",
          "shell.execute_reply": "2024-07-27T12:37:39.456145Z"
        },
        "trusted": true,
        "id": "Q1xa41lwtaXR"
      },
      "execution_count": null,
      "outputs": []
    },
    {
      "cell_type": "code",
      "source": [
        "def convert_to_nan(df):\n",
        "    n_col = df.shape[1]\n",
        "    for index in range(n_col):\n",
        "        df.iloc[:, index]  = df.iloc[:, index].replace(\"NAN\", np.nan)\n",
        "    return df\n",
        "\n",
        "df = convert_to_nan(df)\n",
        "df.isnull().sum().sort_values()"
      ],
      "metadata": {
        "execution": {
          "iopub.status.busy": "2024-07-27T12:37:39.45837Z",
          "iopub.execute_input": "2024-07-27T12:37:39.458721Z",
          "iopub.status.idle": "2024-07-27T12:37:39.479698Z",
          "shell.execute_reply.started": "2024-07-27T12:37:39.458664Z",
          "shell.execute_reply": "2024-07-27T12:37:39.478321Z"
        },
        "trusted": true,
        "id": "JrbNN_N2taXR"
      },
      "execution_count": null,
      "outputs": []
    },
    {
      "cell_type": "code",
      "source": [
        "# Convert all columns to numeric, coerce errors to NaN\n",
        "df_num = df_num.apply(pd.to_numeric, errors='coerce')\n",
        "\n",
        "# Function to replace \"NAN\" strings with np.nan\n",
        "def convert_to_nan(df):\n",
        "    n_col = df.shape[1]\n",
        "    for index in range(n_col):\n",
        "        df.iloc[:, index] = df.iloc[:, index].replace(\"NAN\", np.nan)\n",
        "    return df\n",
        "\n",
        "df_num = convert_to_nan(df_num)"
      ],
      "metadata": {
        "execution": {
          "iopub.status.busy": "2024-07-27T12:37:39.481261Z",
          "iopub.execute_input": "2024-07-27T12:37:39.482039Z",
          "iopub.status.idle": "2024-07-27T12:37:39.492606Z",
          "shell.execute_reply.started": "2024-07-27T12:37:39.481998Z",
          "shell.execute_reply": "2024-07-27T12:37:39.491411Z"
        },
        "trusted": true,
        "id": "vBqgPdpDtaXS"
      },
      "execution_count": null,
      "outputs": []
    },
    {
      "cell_type": "code",
      "source": [
        "# Impute missing values with median\n",
        "imputer = SimpleImputer(strategy=\"median\")\n",
        "df_num = pd.DataFrame(imputer.fit_transform(df_num), columns=df_num.columns)\n"
      ],
      "metadata": {
        "execution": {
          "iopub.status.busy": "2024-07-27T12:37:39.494015Z",
          "iopub.execute_input": "2024-07-27T12:37:39.494504Z",
          "iopub.status.idle": "2024-07-27T12:37:39.511041Z",
          "shell.execute_reply.started": "2024-07-27T12:37:39.494471Z",
          "shell.execute_reply": "2024-07-27T12:37:39.509878Z"
        },
        "trusted": true,
        "id": "ozSsve9ktaXS"
      },
      "execution_count": null,
      "outputs": []
    },
    {
      "cell_type": "code",
      "source": [
        "# Detecting and removing outliers using Z-Score\n",
        "def detect_outliers_zscore(df, threshold=3):\n",
        "    z_scores = zscore(df)\n",
        "    abs_z_scores = np.abs(z_scores)\n",
        "    filtered_entries = (abs_z_scores < threshold).all(axis=1)\n",
        "    return df[filtered_entries]\n",
        "\n",
        "df_num = detect_outliers_zscore(df_num)\n"
      ],
      "metadata": {
        "execution": {
          "iopub.status.busy": "2024-07-27T12:37:39.512532Z",
          "iopub.execute_input": "2024-07-27T12:37:39.512942Z",
          "iopub.status.idle": "2024-07-27T12:37:39.524467Z",
          "shell.execute_reply.started": "2024-07-27T12:37:39.512903Z",
          "shell.execute_reply": "2024-07-27T12:37:39.523433Z"
        },
        "trusted": true,
        "id": "njE0mScJtaXS"
      },
      "execution_count": null,
      "outputs": []
    },
    {
      "cell_type": "code",
      "source": [
        "# Plot histograms\n",
        "def plot_histograms(df):\n",
        "    for col in df.columns:\n",
        "        fig, ax = plt.subplots(1, 1, figsize=(7, 5))\n",
        "        sns.histplot(df[col], kde=True, ax=ax)\n",
        "        ax.set_title(f'Distribution of {col}')\n",
        "        plt.show()\n",
        "\n",
        "plot_histograms(df_num)\n"
      ],
      "metadata": {
        "execution": {
          "iopub.status.busy": "2024-07-27T12:37:39.525752Z",
          "iopub.execute_input": "2024-07-27T12:37:39.526176Z",
          "iopub.status.idle": "2024-07-27T12:37:41.289334Z",
          "shell.execute_reply.started": "2024-07-27T12:37:39.526137Z",
          "shell.execute_reply": "2024-07-27T12:37:41.288016Z"
        },
        "trusted": true,
        "id": "KOy8nFAYtaXS"
      },
      "execution_count": null,
      "outputs": []
    },
    {
      "cell_type": "code",
      "source": [
        "# KDE plots\n",
        "def plot_kde(df):\n",
        "    for col in df.columns:\n",
        "        fig, ax = plt.subplots(1, 1, figsize=(7, 5))\n",
        "        sns.kdeplot(data=df, x=col, ax=ax)\n",
        "        ax.set_title(f'KDE Plot of {col}')\n",
        "        plt.show()\n",
        "\n",
        "plot_kde(df_num)"
      ],
      "metadata": {
        "execution": {
          "iopub.status.busy": "2024-07-27T12:37:41.294021Z",
          "iopub.execute_input": "2024-07-27T12:37:41.294417Z",
          "iopub.status.idle": "2024-07-27T12:37:42.318229Z",
          "shell.execute_reply.started": "2024-07-27T12:37:41.294384Z",
          "shell.execute_reply": "2024-07-27T12:37:42.317231Z"
        },
        "trusted": true,
        "id": "lEn--YIKtaXS"
      },
      "execution_count": null,
      "outputs": []
    },
    {
      "cell_type": "code",
      "source": [
        "# Correlation heatmap\n",
        "corr = df_num.corr()\n",
        "fig, ax = plt.subplots(figsize=(13, 9))\n",
        "sns.heatmap(corr, annot=True, cmap='magma', ax=ax)\n",
        "plt.title('Correlation Heatmap')\n",
        "plt.show()"
      ],
      "metadata": {
        "execution": {
          "iopub.status.busy": "2024-07-27T12:37:42.319403Z",
          "iopub.execute_input": "2024-07-27T12:37:42.319711Z",
          "iopub.status.idle": "2024-07-27T12:37:42.733014Z",
          "shell.execute_reply.started": "2024-07-27T12:37:42.319684Z",
          "shell.execute_reply": "2024-07-27T12:37:42.731824Z"
        },
        "trusted": true,
        "id": "MdLPP9aVtaXS"
      },
      "execution_count": null,
      "outputs": []
    },
    {
      "cell_type": "code",
      "source": [
        "# Pairplot\n",
        "sns.pairplot(df_num)\n",
        "plt.show()"
      ],
      "metadata": {
        "execution": {
          "iopub.status.busy": "2024-07-27T12:37:42.734349Z",
          "iopub.execute_input": "2024-07-27T12:37:42.734692Z",
          "iopub.status.idle": "2024-07-27T12:37:47.393368Z",
          "shell.execute_reply.started": "2024-07-27T12:37:42.734661Z",
          "shell.execute_reply": "2024-07-27T12:37:47.392076Z"
        },
        "trusted": true,
        "id": "TD0RXsdVtaXS"
      },
      "execution_count": null,
      "outputs": []
    },
    {
      "cell_type": "code",
      "source": [
        "# Boxplot\n",
        "def plot_boxplots(df):\n",
        "    for col in df.columns:\n",
        "        fig, ax = plt.subplots(1, 1, figsize=(7, 5))\n",
        "        sns.boxplot(data=df, x=col, ax=ax)\n",
        "        ax.set_title(f'Boxplot of {col}')\n",
        "        plt.show()\n",
        "\n",
        "plot_boxplots(df_num)"
      ],
      "metadata": {
        "execution": {
          "iopub.status.busy": "2024-07-27T12:37:47.394729Z",
          "iopub.execute_input": "2024-07-27T12:37:47.395118Z",
          "iopub.status.idle": "2024-07-27T12:37:48.040791Z",
          "shell.execute_reply.started": "2024-07-27T12:37:47.395082Z",
          "shell.execute_reply": "2024-07-27T12:37:48.039753Z"
        },
        "trusted": true,
        "id": "GZyMb8EptaXS"
      },
      "execution_count": null,
      "outputs": []
    },
    {
      "cell_type": "code",
      "source": [
        "# Scatter plot matrix\n",
        "pd.plotting.scatter_matrix(df_num, figsize=(12, 12))\n",
        "plt.show()"
      ],
      "metadata": {
        "execution": {
          "iopub.status.busy": "2024-07-27T12:37:48.042565Z",
          "iopub.execute_input": "2024-07-27T12:37:48.042962Z",
          "iopub.status.idle": "2024-07-27T12:37:49.653279Z",
          "shell.execute_reply.started": "2024-07-27T12:37:48.042925Z",
          "shell.execute_reply": "2024-07-27T12:37:49.652374Z"
        },
        "trusted": true,
        "id": "HzBh-IH_taXT"
      },
      "execution_count": null,
      "outputs": []
    },
    {
      "cell_type": "code",
      "source": [
        "# Redefining df_num based on the previously processed dataframe\n",
        "df_num = df.drop([\"STATION CODE\", \"NI\", \"LOCATIONS\", \"STATE\", \"year\", \"BOD\", \"Fec_col\", \"Tot_col\"], axis=1)\n",
        "df_num = df_num.apply(pd.to_numeric, errors='coerce')\n",
        "df_num = convert_to_nan(df_num)\n",
        "df_num\n"
      ],
      "metadata": {
        "execution": {
          "iopub.status.busy": "2024-07-27T12:37:49.654451Z",
          "iopub.execute_input": "2024-07-27T12:37:49.654747Z",
          "iopub.status.idle": "2024-07-27T12:37:49.675563Z",
          "shell.execute_reply.started": "2024-07-27T12:37:49.654722Z",
          "shell.execute_reply": "2024-07-27T12:37:49.674392Z"
        },
        "trusted": true,
        "id": "j60cW83RtaXT"
      },
      "execution_count": null,
      "outputs": []
    },
    {
      "cell_type": "code",
      "source": [
        "# Replacing NULL values with median of column\n",
        "imputer = SimpleImputer(strategy=\"median\")\n",
        "df_num = pd.DataFrame(imputer.fit_transform(df_num), columns=df_num.columns)\n",
        "df_num"
      ],
      "metadata": {
        "execution": {
          "iopub.status.busy": "2024-07-27T12:37:49.676684Z",
          "iopub.execute_input": "2024-07-27T12:37:49.677028Z",
          "iopub.status.idle": "2024-07-27T12:37:49.702667Z",
          "shell.execute_reply.started": "2024-07-27T12:37:49.676992Z",
          "shell.execute_reply": "2024-07-27T12:37:49.701484Z"
        },
        "trusted": true,
        "id": "s3hHcyqptaXT"
      },
      "execution_count": null,
      "outputs": []
    },
    {
      "cell_type": "code",
      "source": [
        "# Compute Z-Score\n",
        "df_num = detect_outliers_zscore(df_num)\n",
        "df_num"
      ],
      "metadata": {
        "execution": {
          "iopub.status.busy": "2024-07-27T12:37:49.703863Z",
          "iopub.execute_input": "2024-07-27T12:37:49.704224Z",
          "iopub.status.idle": "2024-07-27T12:37:49.722909Z",
          "shell.execute_reply.started": "2024-07-27T12:37:49.704191Z",
          "shell.execute_reply": "2024-07-27T12:37:49.721712Z"
        },
        "trusted": true,
        "id": "g_vXmKOrtaXT"
      },
      "execution_count": null,
      "outputs": []
    },
    {
      "cell_type": "code",
      "source": [
        "# Temp has nothing to do with WQI, so dropping\n",
        "df_num.drop([\"Temp\"], axis=1, inplace=True)"
      ],
      "metadata": {
        "execution": {
          "iopub.status.busy": "2024-07-27T12:37:49.724648Z",
          "iopub.execute_input": "2024-07-27T12:37:49.725239Z",
          "iopub.status.idle": "2024-07-27T12:37:49.733578Z",
          "shell.execute_reply.started": "2024-07-27T12:37:49.725196Z",
          "shell.execute_reply": "2024-07-27T12:37:49.732504Z"
        },
        "trusted": true,
        "id": "wKP3GCvxtaXT"
      },
      "execution_count": null,
      "outputs": []
    },
    {
      "cell_type": "code",
      "source": [
        "# Weight Vector (wi)\n",
        "wi = np.array([0.2213, 0.2604, 0.0022])\n",
        "wi"
      ],
      "metadata": {
        "execution": {
          "iopub.status.busy": "2024-07-27T12:37:49.734819Z",
          "iopub.execute_input": "2024-07-27T12:37:49.735155Z",
          "iopub.status.idle": "2024-07-27T12:37:49.746687Z",
          "shell.execute_reply.started": "2024-07-27T12:37:49.735127Z",
          "shell.execute_reply": "2024-07-27T12:37:49.74559Z"
        },
        "trusted": true,
        "id": "_ChSVnlltaXT"
      },
      "execution_count": null,
      "outputs": []
    },
    {
      "cell_type": "code",
      "source": [
        "# Standard values of parameters (si)\n",
        "si = np.array([10, 8.5, 1000])\n",
        "si"
      ],
      "metadata": {
        "execution": {
          "iopub.status.busy": "2024-07-27T12:37:49.747965Z",
          "iopub.execute_input": "2024-07-27T12:37:49.748435Z",
          "iopub.status.idle": "2024-07-27T12:37:49.759458Z",
          "shell.execute_reply.started": "2024-07-27T12:37:49.748405Z",
          "shell.execute_reply": "2024-07-27T12:37:49.758276Z"
        },
        "trusted": true,
        "id": "ZSlpbrd8taXT"
      },
      "execution_count": null,
      "outputs": []
    },
    {
      "cell_type": "code",
      "source": [
        "# Ideal values of parameters (vIdeal)\n",
        "vIdeal = np.array([14.6, 7, 0])\n",
        "\n",
        "def calc_wqi(sample):\n",
        "    wqi_sample = 0\n",
        "    num_col = 3\n",
        "    for index in range(num_col):\n",
        "        v_index = sample[index]  # Observed value of sample at index\n",
        "        v_index_ideal = vIdeal[index]  # Ideal value of observed value\n",
        "        w_index = wi[index]  # Weight of corresponding parameter of observed value\n",
        "        std_index = si[index]  # Standard value recommended for observed value\n",
        "        q_index = (v_index - v_index_ideal) / (std_index - v_index_ideal)\n",
        "        q_index = q_index * 100  # Final qi value of observed value\n",
        "        wqi_sample += q_index * w_index\n",
        "    return wqi_sample\n",
        "def calc_wqi_for_df(df):\n",
        "    wqi_arr = []\n",
        "    for index in range(df.shape[0]):\n",
        "        index_row = df.iloc[index, :]\n",
        "        wqi_row = calc_wqi(index_row)\n",
        "        wqi_arr.append(wqi_row)\n",
        "    return wqi_arr\n",
        "\n",
        "wqi_arr = calc_wqi_for_df(df_num)\n",
        "wqi_arr = np.array(wqi_arr).reshape(-1, 1)\n",
        "# wqi_df = pd.DataFrame(wqi_arr, columns=[\"WQI\"])\n",
        "wqi_arr"
      ],
      "metadata": {
        "execution": {
          "iopub.status.busy": "2024-07-27T12:37:49.760938Z",
          "iopub.execute_input": "2024-07-27T12:37:49.76139Z",
          "iopub.status.idle": "2024-07-27T12:37:49.973133Z",
          "shell.execute_reply.started": "2024-07-27T12:37:49.76135Z",
          "shell.execute_reply": "2024-07-27T12:37:49.972113Z"
        },
        "trusted": true,
        "id": "Jjv6LspbtaXT"
      },
      "execution_count": null,
      "outputs": []
    },
    {
      "cell_type": "code",
      "source": [
        "# Combining dataframe of WQI and dataframe of attributes\n",
        "df_wqi = pd.concat([df_num.reset_index(drop=True), pd.DataFrame(wqi_arr, columns=[\"WQI\"])], axis=1)\n",
        "df_wqi"
      ],
      "metadata": {
        "execution": {
          "iopub.status.busy": "2024-07-27T12:37:49.974488Z",
          "iopub.execute_input": "2024-07-27T12:37:49.974951Z",
          "iopub.status.idle": "2024-07-27T12:37:49.991613Z",
          "shell.execute_reply.started": "2024-07-27T12:37:49.974921Z",
          "shell.execute_reply": "2024-07-27T12:37:49.990144Z"
        },
        "trusted": true,
        "id": "Rm1ETK_xtaXT"
      },
      "execution_count": null,
      "outputs": []
    },
    {
      "cell_type": "code",
      "source": [
        "#  Removing the samples with negative WQI\n",
        "df_wqi = df_wqi[df_wqi[\"WQI\"] >= 0]\n",
        "df_wqi.head()"
      ],
      "metadata": {
        "execution": {
          "iopub.status.busy": "2024-07-27T12:37:49.992986Z",
          "iopub.execute_input": "2024-07-27T12:37:49.993465Z",
          "iopub.status.idle": "2024-07-27T12:37:50.011238Z",
          "shell.execute_reply.started": "2024-07-27T12:37:49.993429Z",
          "shell.execute_reply": "2024-07-27T12:37:50.010071Z"
        },
        "trusted": true,
        "id": "OHM2C5PMtaXT"
      },
      "execution_count": null,
      "outputs": []
    },
    {
      "cell_type": "code",
      "source": [
        "# WQI classification\n",
        "df_wqi[\"WQI clf\"] = df_wqi[\"WQI\"].apply(lambda x: 4 if x <= 25 else 3 if 26 <= x <= 50 else 2 if 51 <= x <= 75 else 1 if 76 <= x <= 100 else 0)"
      ],
      "metadata": {
        "execution": {
          "iopub.status.busy": "2024-07-27T12:37:50.012548Z",
          "iopub.execute_input": "2024-07-27T12:37:50.012911Z",
          "iopub.status.idle": "2024-07-27T12:37:50.023425Z",
          "shell.execute_reply.started": "2024-07-27T12:37:50.012876Z",
          "shell.execute_reply": "2024-07-27T12:37:50.022395Z"
        },
        "trusted": true,
        "id": "4RmcUHTGtaXT"
      },
      "execution_count": null,
      "outputs": []
    },
    {
      "cell_type": "code",
      "source": [
        "features = list(df_wqi.columns)[:]\n",
        "data_cluster = df_wqi['WQI clf']\n",
        "data_cluster.describe()"
      ],
      "metadata": {
        "execution": {
          "iopub.status.busy": "2024-07-27T12:37:50.024726Z",
          "iopub.execute_input": "2024-07-27T12:37:50.025244Z",
          "iopub.status.idle": "2024-07-27T12:37:50.042278Z",
          "shell.execute_reply.started": "2024-07-27T12:37:50.025204Z",
          "shell.execute_reply": "2024-07-27T12:37:50.041201Z"
        },
        "trusted": true,
        "id": "iwR0awKYtaXT"
      },
      "execution_count": null,
      "outputs": []
    },
    {
      "cell_type": "markdown",
      "source": [
        " WQI Range                   Classification\n",
        "\n",
        "     Less than 25                  Excellent(3)\n",
        "        26–50                         Good(2)\n",
        "        51-75                         Poor(1)\n",
        "    Greater than 75                 Very Poor(0)"
      ],
      "metadata": {
        "id": "_blaz4lLtaXU"
      }
    },
    {
      "cell_type": "code",
      "source": [
        "df_wqi[\"WQI clf\"] = df_wqi[\"WQI\"].apply(lambda x: (4 if (x <= 25)\n",
        "                                        else(3 if (26<=x<=50)\n",
        "                                        else(2 if (51<=x<=75)\n",
        "                                        else(1 if (76<=x<=100)\n",
        "                                        else 0)))))\n",
        "df_wqi.head(10)"
      ],
      "metadata": {
        "execution": {
          "iopub.status.busy": "2024-07-27T12:37:50.043488Z",
          "iopub.execute_input": "2024-07-27T12:37:50.043813Z",
          "iopub.status.idle": "2024-07-27T12:37:50.064517Z",
          "shell.execute_reply.started": "2024-07-27T12:37:50.043781Z",
          "shell.execute_reply": "2024-07-27T12:37:50.06332Z"
        },
        "trusted": true,
        "id": "WNwPIUIbtaXV"
      },
      "execution_count": null,
      "outputs": []
    },
    {
      "cell_type": "code",
      "source": [
        "# Correlation heatmap\n",
        "corr = df_wqi[[\"DO\", \"PH\", \"Conductivity\", \"WQI\"]].corr()\n",
        "mask = np.triu(np.ones_like(corr, dtype=bool))\n",
        "f, ax = plt.subplots(figsize=(13, 9))\n",
        "cmap = sns.diverging_palette(220, 10, as_cmap=True)\n",
        "sns.heatmap(corr, mask=mask, cmap=cmap, vmax=1, center=0, square=True, linewidths=.5, cbar_kws={\"shrink\": .7})\n",
        "ax.set_xticklabels(ax.get_xticklabels(), rotation=45, horizontalalignment='right')\n",
        "plt.show()"
      ],
      "metadata": {
        "execution": {
          "iopub.status.busy": "2024-07-27T12:37:50.065959Z",
          "iopub.execute_input": "2024-07-27T12:37:50.066329Z",
          "iopub.status.idle": "2024-07-27T12:37:50.345805Z",
          "shell.execute_reply.started": "2024-07-27T12:37:50.0663Z",
          "shell.execute_reply": "2024-07-27T12:37:50.344552Z"
        },
        "trusted": true,
        "id": "at0pKlQitaXV"
      },
      "execution_count": null,
      "outputs": []
    },
    {
      "cell_type": "code",
      "source": [
        "# KMeans clustering and Elbow method\n",
        "features = list(df_wqi.columns)[:3]\n",
        "data_f = df_wqi[features]\n",
        "\n",
        "# Ensure data_f is not empty before proceeding\n",
        "if data_f.empty:\n",
        "    raise ValueError(\"No data available in data_f. Please check the data preprocessing steps.\")\n",
        "\n",
        "sse = []\n",
        "list_k = list(range(1, 10))\n",
        "\n",
        "for k in list_k:\n",
        "    km = KMeans(n_clusters=k)\n",
        "    km.fit(data_f)\n",
        "    sse.append(km.inertia_)\n",
        "\n",
        "plt.figure(figsize=(6, 6))\n",
        "plt.plot(list_k, sse, '-o')\n",
        "plt.xlabel(r'Number of clusters *k*')\n",
        "plt.ylabel('Sum of squared distance')\n",
        "plt.title('Elbow Method for Optimal k')\n",
        "plt.show()"
      ],
      "metadata": {
        "execution": {
          "iopub.status.busy": "2024-07-27T12:37:50.347228Z",
          "iopub.execute_input": "2024-07-27T12:37:50.347649Z",
          "iopub.status.idle": "2024-07-27T12:37:50.872939Z",
          "shell.execute_reply.started": "2024-07-27T12:37:50.347609Z",
          "shell.execute_reply": "2024-07-27T12:37:50.87164Z"
        },
        "trusted": true,
        "id": "goEUcGImtaXV"
      },
      "execution_count": null,
      "outputs": []
    },
    {
      "cell_type": "markdown",
      "source": [],
      "metadata": {
        "id": "gNUX4rgxtaXV"
      }
    },
    {
      "cell_type": "code",
      "source": [
        "# Logistic Regression\n",
        "Y = df_wqi['WQI clf']\n",
        "X = df_wqi[features]\n",
        "scaler = StandardScaler()\n",
        "X_scaled = scaler.fit_transform(X)\n",
        "X_train, X_test, y_train, y_test = train_test_split(X_scaled, Y, test_size=0.2, random_state=30)\n",
        "\n",
        "model = LogisticRegression(max_iter=1000)\n",
        "model.fit(X_train, y_train)\n",
        "y_pred = model.predict(X_test)\n",
        "\n",
        "print(\"Accuracy: \", accuracy_score(y_test, y_pred))\n",
        "print(\"Classification Report:\\n\", classification_report(y_test, y_pred))\n",
        "print(\"Confusion Matrix:\\n\", confusion_matrix(y_test, y_pred))"
      ],
      "metadata": {
        "execution": {
          "iopub.status.busy": "2024-07-27T12:37:50.874467Z",
          "iopub.execute_input": "2024-07-27T12:37:50.874803Z",
          "iopub.status.idle": "2024-07-27T12:37:50.924295Z",
          "shell.execute_reply.started": "2024-07-27T12:37:50.874773Z",
          "shell.execute_reply": "2024-07-27T12:37:50.923121Z"
        },
        "trusted": true,
        "id": "kA_Xyl5etaXW"
      },
      "execution_count": null,
      "outputs": []
    },
    {
      "cell_type": "code",
      "source": [
        "# Clustering with Silhouette Score\n",
        "kmeans = KMeans(n_clusters=3)\n",
        "kmeans.fit(X_scaled)\n",
        "labels = kmeans.labels_\n",
        "silhouette_score(X_scaled, labels, metric='euclidean') # silhouette"
      ],
      "metadata": {
        "execution": {
          "iopub.status.busy": "2024-07-27T12:37:50.925752Z",
          "iopub.execute_input": "2024-07-27T12:37:50.926252Z",
          "iopub.status.idle": "2024-07-27T12:37:51.053009Z",
          "shell.execute_reply.started": "2024-07-27T12:37:50.926207Z",
          "shell.execute_reply": "2024-07-27T12:37:51.051613Z"
        },
        "trusted": true,
        "id": "Nm3WgshztaXW"
      },
      "execution_count": null,
      "outputs": []
    },
    {
      "cell_type": "code",
      "source": [
        "# Histogram for WQI\n",
        "plt.figure(figsize=(10, 6))\n",
        "sns.histplot(df_wqi['WQI'], bins=30, kde=True)\n",
        "plt.title('Histogram of Water Quality Index (WQI)')\n",
        "plt.xlabel('WQI')\n",
        "plt.ylabel('Frequency')\n",
        "plt.show()\n"
      ],
      "metadata": {
        "execution": {
          "iopub.status.busy": "2024-07-27T12:37:51.058183Z",
          "iopub.execute_input": "2024-07-27T12:37:51.059002Z",
          "iopub.status.idle": "2024-07-27T12:37:51.478687Z",
          "shell.execute_reply.started": "2024-07-27T12:37:51.058926Z",
          "shell.execute_reply": "2024-07-27T12:37:51.477647Z"
        },
        "trusted": true,
        "id": "hAiRb2entaXW"
      },
      "execution_count": null,
      "outputs": []
    },
    {
      "cell_type": "code",
      "source": [
        "# Count plot for WQI classification\n",
        "plt.figure(figsize=(10, 6))\n",
        "sns.countplot(x=df_wqi['WQI clf'])\n",
        "plt.title('Count Plot of WQI Classification')\n",
        "plt.xlabel('WQI Classification')\n",
        "plt.ylabel('Count')\n",
        "plt.show()\n"
      ],
      "metadata": {
        "execution": {
          "iopub.status.busy": "2024-07-27T12:37:51.480033Z",
          "iopub.execute_input": "2024-07-27T12:37:51.480456Z",
          "iopub.status.idle": "2024-07-27T12:37:51.682694Z",
          "shell.execute_reply.started": "2024-07-27T12:37:51.480419Z",
          "shell.execute_reply": "2024-07-27T12:37:51.681572Z"
        },
        "trusted": true,
        "id": "1PkB3ppDtaXW"
      },
      "execution_count": null,
      "outputs": []
    },
    {
      "cell_type": "code",
      "source": [
        "# Heatmap of the confusion matrix\n",
        "conf_matrix = confusion_matrix(y_test, y_pred)\n",
        "plt.figure(figsize=(10, 7))\n",
        "sns.heatmap(conf_matrix, annot=True, fmt='d', cmap='Blues', xticklabels=model.classes_, yticklabels=model.classes_)\n",
        "plt.title('Confusion Matrix Heatmap')\n",
        "plt.xlabel('Predicted Label')\n",
        "plt.ylabel('True Label')\n",
        "plt.show()\n"
      ],
      "metadata": {
        "execution": {
          "iopub.status.busy": "2024-07-27T12:38:01.046451Z",
          "iopub.execute_input": "2024-07-27T12:38:01.046939Z",
          "iopub.status.idle": "2024-07-27T12:38:01.415513Z",
          "shell.execute_reply.started": "2024-07-27T12:38:01.046901Z",
          "shell.execute_reply": "2024-07-27T12:38:01.413772Z"
        },
        "trusted": true,
        "id": "2BNVtNlqtaXW"
      },
      "execution_count": null,
      "outputs": []
    },
    {
      "cell_type": "code",
      "source": [
        "# Bar plot of WQI classification counts\n",
        "wqi_class_counts = df_wqi['WQI clf'].value_counts().sort_index()\n",
        "plt.figure(figsize=(10, 6))\n",
        "sns.barplot(x=wqi_class_counts.index, y=wqi_class_counts.values, palette='viridis')\n",
        "plt.title('Bar Plot of WQI Classification Counts')\n",
        "plt.xlabel('WQI Classification')\n",
        "plt.ylabel('Count')\n",
        "plt.show()\n"
      ],
      "metadata": {
        "execution": {
          "iopub.status.busy": "2024-07-27T12:38:19.1844Z",
          "iopub.execute_input": "2024-07-27T12:38:19.184799Z",
          "iopub.status.idle": "2024-07-27T12:38:19.448929Z",
          "shell.execute_reply.started": "2024-07-27T12:38:19.184766Z",
          "shell.execute_reply": "2024-07-27T12:38:19.447867Z"
        },
        "trusted": true,
        "id": "_hlQYiQktaXb"
      },
      "execution_count": null,
      "outputs": []
    },
    {
      "cell_type": "code",
      "source": [
        "# Box plot for various features\n",
        "plt.figure(figsize=(15, 8))\n",
        "sns.boxplot(data=df_num)\n",
        "plt.title('Box Plot for Various Features')\n",
        "plt.xticks(rotation=90)\n",
        "plt.show()\n"
      ],
      "metadata": {
        "execution": {
          "iopub.status.busy": "2024-07-27T12:38:59.00456Z",
          "iopub.execute_input": "2024-07-27T12:38:59.005016Z",
          "iopub.status.idle": "2024-07-27T12:38:59.319166Z",
          "shell.execute_reply.started": "2024-07-27T12:38:59.004982Z",
          "shell.execute_reply": "2024-07-27T12:38:59.317869Z"
        },
        "trusted": true,
        "id": "DvrEpvaLtaXb"
      },
      "execution_count": null,
      "outputs": []
    },
    {
      "cell_type": "code",
      "source": [
        "# Correlation heatmap\n",
        "plt.figure(figsize=(12, 8))\n",
        "corr_matrix = df_num.corr()\n",
        "sns.heatmap(corr_matrix, annot=True, cmap='magma', linewidths=0.5)\n",
        "plt.title('Correlation Heatmap')\n",
        "plt.show()\n"
      ],
      "metadata": {
        "execution": {
          "iopub.status.busy": "2024-07-27T12:39:27.402808Z",
          "iopub.execute_input": "2024-07-27T12:39:27.403307Z",
          "iopub.status.idle": "2024-07-27T12:39:27.716304Z",
          "shell.execute_reply.started": "2024-07-27T12:39:27.403272Z",
          "shell.execute_reply": "2024-07-27T12:39:27.715213Z"
        },
        "trusted": true,
        "id": "AMOLR4SztaXc"
      },
      "execution_count": null,
      "outputs": []
    }
  ]
}